{
 "cells": [
  {
   "cell_type": "code",
   "execution_count": 1,
   "id": "fbe0b531-0d73-48e1-9a96-8da131f7cf34",
   "metadata": {},
   "outputs": [],
   "source": [
    "# set up jupyter\n",
    "from IPython.display import display, Markdown # pretty display\n",
    "from IPython.core.interactiveshell import InteractiveShell # multi output\n",
    "\n",
    "InteractiveShell.ast_node_interactivity = \"all\" # type: ignore"
   ]
  },
  {
   "cell_type": "code",
   "execution_count": 2,
   "id": "c9ab7ae1",
   "metadata": {},
   "outputs": [],
   "source": [
    "# import packages\n",
    "import pandas as pd\n",
    "from imblearn.over_sampling import SMOTE\n",
    "from sklearn.ensemble import RandomForestClassifier, GradientBoostingClassifier\n",
    "from sklearn.model_selection import train_test_split\n",
    "from sklearn.tree import DecisionTreeClassifier\n",
    "from utils.plotter import Plotter # type: ignore"
   ]
  },
  {
   "cell_type": "code",
   "execution_count": 10,
   "id": "5eb0c82b",
   "metadata": {},
   "outputs": [
    {
     "data": {
      "text/markdown": [
       "# Preprocessed data"
      ],
      "text/plain": [
       "<IPython.core.display.Markdown object>"
      ]
     },
     "execution_count": 10,
     "metadata": {},
     "output_type": "execute_result"
    },
    {
     "data": {
      "text/html": [
       "<div>\n",
       "<style scoped>\n",
       "    .dataframe tbody tr th:only-of-type {\n",
       "        vertical-align: middle;\n",
       "    }\n",
       "\n",
       "    .dataframe tbody tr th {\n",
       "        vertical-align: top;\n",
       "    }\n",
       "\n",
       "    .dataframe thead th {\n",
       "        text-align: right;\n",
       "    }\n",
       "</style>\n",
       "<table border=\"1\" class=\"dataframe\">\n",
       "  <thead>\n",
       "    <tr style=\"text-align: right;\">\n",
       "      <th></th>\n",
       "      <th>Age</th>\n",
       "      <th>MonthlyIncome</th>\n",
       "      <th>OverTime</th>\n",
       "      <th>DistanceFromHome</th>\n",
       "      <th>JobLevel_1</th>\n",
       "      <th>JobLevel_2</th>\n",
       "      <th>JobLevel_3</th>\n",
       "      <th>JobLevel_4</th>\n",
       "      <th>JobLevel_5</th>\n",
       "      <th>Attrition</th>\n",
       "    </tr>\n",
       "  </thead>\n",
       "  <tbody>\n",
       "    <tr>\n",
       "      <th>0</th>\n",
       "      <td>0.547619</td>\n",
       "      <td>0.262454</td>\n",
       "      <td>1.0</td>\n",
       "      <td>0.000000</td>\n",
       "      <td>0.0</td>\n",
       "      <td>1.0</td>\n",
       "      <td>0.0</td>\n",
       "      <td>0.0</td>\n",
       "      <td>0.0</td>\n",
       "      <td>1.0</td>\n",
       "    </tr>\n",
       "    <tr>\n",
       "      <th>1</th>\n",
       "      <td>0.738095</td>\n",
       "      <td>0.217009</td>\n",
       "      <td>0.0</td>\n",
       "      <td>0.250000</td>\n",
       "      <td>0.0</td>\n",
       "      <td>1.0</td>\n",
       "      <td>0.0</td>\n",
       "      <td>0.0</td>\n",
       "      <td>0.0</td>\n",
       "      <td>0.0</td>\n",
       "    </tr>\n",
       "    <tr>\n",
       "      <th>2</th>\n",
       "      <td>0.452381</td>\n",
       "      <td>0.056925</td>\n",
       "      <td>1.0</td>\n",
       "      <td>0.035714</td>\n",
       "      <td>1.0</td>\n",
       "      <td>0.0</td>\n",
       "      <td>0.0</td>\n",
       "      <td>0.0</td>\n",
       "      <td>0.0</td>\n",
       "      <td>1.0</td>\n",
       "    </tr>\n",
       "    <tr>\n",
       "      <th>3</th>\n",
       "      <td>0.357143</td>\n",
       "      <td>0.100053</td>\n",
       "      <td>1.0</td>\n",
       "      <td>0.071429</td>\n",
       "      <td>1.0</td>\n",
       "      <td>0.0</td>\n",
       "      <td>0.0</td>\n",
       "      <td>0.0</td>\n",
       "      <td>0.0</td>\n",
       "      <td>0.0</td>\n",
       "    </tr>\n",
       "    <tr>\n",
       "      <th>4</th>\n",
       "      <td>0.214286</td>\n",
       "      <td>0.129489</td>\n",
       "      <td>0.0</td>\n",
       "      <td>0.035714</td>\n",
       "      <td>1.0</td>\n",
       "      <td>0.0</td>\n",
       "      <td>0.0</td>\n",
       "      <td>0.0</td>\n",
       "      <td>0.0</td>\n",
       "      <td>0.0</td>\n",
       "    </tr>\n",
       "    <tr>\n",
       "      <th>...</th>\n",
       "      <td>...</td>\n",
       "      <td>...</td>\n",
       "      <td>...</td>\n",
       "      <td>...</td>\n",
       "      <td>...</td>\n",
       "      <td>...</td>\n",
       "      <td>...</td>\n",
       "      <td>...</td>\n",
       "      <td>...</td>\n",
       "      <td>...</td>\n",
       "    </tr>\n",
       "    <tr>\n",
       "      <th>1465</th>\n",
       "      <td>0.428571</td>\n",
       "      <td>0.082254</td>\n",
       "      <td>0.0</td>\n",
       "      <td>0.785714</td>\n",
       "      <td>0.0</td>\n",
       "      <td>1.0</td>\n",
       "      <td>0.0</td>\n",
       "      <td>0.0</td>\n",
       "      <td>0.0</td>\n",
       "      <td>0.0</td>\n",
       "    </tr>\n",
       "    <tr>\n",
       "      <th>1466</th>\n",
       "      <td>0.500000</td>\n",
       "      <td>0.472986</td>\n",
       "      <td>0.0</td>\n",
       "      <td>0.178571</td>\n",
       "      <td>0.0</td>\n",
       "      <td>0.0</td>\n",
       "      <td>1.0</td>\n",
       "      <td>0.0</td>\n",
       "      <td>0.0</td>\n",
       "      <td>0.0</td>\n",
       "    </tr>\n",
       "    <tr>\n",
       "      <th>1467</th>\n",
       "      <td>0.214286</td>\n",
       "      <td>0.270300</td>\n",
       "      <td>1.0</td>\n",
       "      <td>0.107143</td>\n",
       "      <td>0.0</td>\n",
       "      <td>1.0</td>\n",
       "      <td>0.0</td>\n",
       "      <td>0.0</td>\n",
       "      <td>0.0</td>\n",
       "      <td>0.0</td>\n",
       "    </tr>\n",
       "    <tr>\n",
       "      <th>1468</th>\n",
       "      <td>0.738095</td>\n",
       "      <td>0.230700</td>\n",
       "      <td>0.0</td>\n",
       "      <td>0.035714</td>\n",
       "      <td>0.0</td>\n",
       "      <td>1.0</td>\n",
       "      <td>0.0</td>\n",
       "      <td>0.0</td>\n",
       "      <td>0.0</td>\n",
       "      <td>0.0</td>\n",
       "    </tr>\n",
       "    <tr>\n",
       "      <th>1469</th>\n",
       "      <td>0.380952</td>\n",
       "      <td>0.178778</td>\n",
       "      <td>0.0</td>\n",
       "      <td>0.250000</td>\n",
       "      <td>0.0</td>\n",
       "      <td>1.0</td>\n",
       "      <td>0.0</td>\n",
       "      <td>0.0</td>\n",
       "      <td>0.0</td>\n",
       "      <td>0.0</td>\n",
       "    </tr>\n",
       "  </tbody>\n",
       "</table>\n",
       "<p>1470 rows × 10 columns</p>\n",
       "</div>"
      ],
      "text/plain": [
       "           Age  MonthlyIncome  OverTime  DistanceFromHome  JobLevel_1  \\\n",
       "0     0.547619       0.262454       1.0          0.000000         0.0   \n",
       "1     0.738095       0.217009       0.0          0.250000         0.0   \n",
       "2     0.452381       0.056925       1.0          0.035714         1.0   \n",
       "3     0.357143       0.100053       1.0          0.071429         1.0   \n",
       "4     0.214286       0.129489       0.0          0.035714         1.0   \n",
       "...        ...            ...       ...               ...         ...   \n",
       "1465  0.428571       0.082254       0.0          0.785714         0.0   \n",
       "1466  0.500000       0.472986       0.0          0.178571         0.0   \n",
       "1467  0.214286       0.270300       1.0          0.107143         0.0   \n",
       "1468  0.738095       0.230700       0.0          0.035714         0.0   \n",
       "1469  0.380952       0.178778       0.0          0.250000         0.0   \n",
       "\n",
       "      JobLevel_2  JobLevel_3  JobLevel_4  JobLevel_5  Attrition  \n",
       "0            1.0         0.0         0.0         0.0        1.0  \n",
       "1            1.0         0.0         0.0         0.0        0.0  \n",
       "2            0.0         0.0         0.0         0.0        1.0  \n",
       "3            0.0         0.0         0.0         0.0        0.0  \n",
       "4            0.0         0.0         0.0         0.0        0.0  \n",
       "...          ...         ...         ...         ...        ...  \n",
       "1465         1.0         0.0         0.0         0.0        0.0  \n",
       "1466         0.0         1.0         0.0         0.0        0.0  \n",
       "1467         1.0         0.0         0.0         0.0        0.0  \n",
       "1468         1.0         0.0         0.0         0.0        0.0  \n",
       "1469         1.0         0.0         0.0         0.0        0.0  \n",
       "\n",
       "[1470 rows x 10 columns]"
      ]
     },
     "metadata": {},
     "output_type": "display_data"
    },
    {
     "data": {
      "text/plain": [
       "Attrition\n",
       "0.0    1233\n",
       "1.0     237\n",
       "Name: count, dtype: int64"
      ]
     },
     "execution_count": 10,
     "metadata": {},
     "output_type": "execute_result"
    }
   ],
   "source": [
    "# get preprocessed data\n",
    "data = pd.read_csv(\"./dataset/preprocessed.csv\") # type: ignore\n",
    "Markdown(\"# Preprocessed data\")\n",
    "display(data)\n",
    "data[\"Attrition\"].value_counts()"
   ]
  },
  {
   "cell_type": "code",
   "execution_count": 4,
   "id": "b85a3112",
   "metadata": {},
   "outputs": [],
   "source": [
    "# prep data\n",
    "labels = data[\"Attrition\"]\n",
    "features = data .drop(\"Attrition\", axis = 1)\n",
    "\n",
    "# splits\n",
    "x_train, x_test, y_train, y_test = train_test_split(features, labels, test_size=0.25, random_state=0)"
   ]
  },
  {
   "cell_type": "code",
   "execution_count": 5,
   "id": "4667291d",
   "metadata": {},
   "outputs": [],
   "source": [
    "# create plotter for test results\n",
    "plotter = Plotter(y_test)"
   ]
  },
  {
   "cell_type": "code",
   "execution_count": 6,
   "id": "084fcbf0",
   "metadata": {},
   "outputs": [],
   "source": [
    "# dataset is very imbalanced, oversample to address this\n",
    "oversampler = SMOTE(random_state=0)\n",
    "smote_x, smote_y = oversampler.fit_resample(x_train, y_train) # type: ignore"
   ]
  },
  {
   "cell_type": "code",
   "execution_count": 7,
   "id": "9ecc3059",
   "metadata": {},
   "outputs": [
    {
     "data": {
      "text/markdown": [
       "# Results: Decision Tree"
      ],
      "text/plain": [
       "<IPython.core.display.Markdown object>"
      ]
     },
     "execution_count": 7,
     "metadata": {},
     "output_type": "execute_result"
    },
    {
     "name": "stdout",
     "output_type": "stream",
     "text": [
      "[[245  65]\n",
      " [ 31  27]]\n",
      "Accuracy:  0.7391304347826086\n",
      "Precision:  0.29347826086956524\n",
      "Recall:  0.46551724137931033\n"
     ]
    },
    {
     "data": {
      "image/png": "[encoded data removed]",
      "text/plain": [
       "<Figure size 640x480 with 2 Axes>"
      ]
     },
     "metadata": {},
     "output_type": "display_data"
    }
   ],
   "source": [
    "# train and test decision tree\n",
    "dtc = DecisionTreeClassifier().fit(smote_x, smote_y)\n",
    "dtc_pred = dtc.predict(x_test)\n",
    "Markdown(\"# Results: Decision Tree\")\n",
    "plotter(dtc_pred)"
   ]
  },
  {
   "cell_type": "code",
   "execution_count": 8,
   "id": "ceca74ee",
   "metadata": {},
   "outputs": [
    {
     "data": {
      "text/markdown": [
       "# Results: Random Forest"
      ],
      "text/plain": [
       "<IPython.core.display.Markdown object>"
      ]
     },
     "execution_count": 8,
     "metadata": {},
     "output_type": "execute_result"
    },
    {
     "name": "stdout",
     "output_type": "stream",
     "text": [
      "[[270  40]\n",
      " [ 32  26]]\n",
      "Accuracy:  0.8043478260869565\n",
      "Precision:  0.3939393939393939\n",
      "Recall:  0.4482758620689655\n"
     ]
    },
    {
     "data": {
      "image/png": "[encoded data removed]",
      "text/plain": [
       "<Figure size 640x480 with 2 Axes>"
      ]
     },
     "metadata": {},
     "output_type": "display_data"
    }
   ],
   "source": [
    "# train and test random forest\n",
    "rfc = RandomForestClassifier().fit(smote_x, smote_y)\n",
    "rfc_pred = rfc.predict(x_test)\n",
    "Markdown(\"# Results: Random Forest\")\n",
    "plotter(rfc_pred)"
   ]
  },
  {
   "cell_type": "code",
   "execution_count": 9,
   "id": "e5851499",
   "metadata": {},
   "outputs": [
    {
     "data": {
      "text/markdown": [
       "# Results: Gradient Boosting"
      ],
      "text/plain": [
       "<IPython.core.display.Markdown object>"
      ]
     },
     "execution_count": 9,
     "metadata": {},
     "output_type": "execute_result"
    },
    {
     "name": "stdout",
     "output_type": "stream",
     "text": [
      "[[267  43]\n",
      " [ 33  25]]\n",
      "Accuracy:  0.7934782608695652\n",
      "Precision:  0.36764705882352944\n",
      "Recall:  0.43103448275862066\n"
     ]
    },
    {
     "data": {
      "image/png": "[encoded data removed]",
      "text/plain": [
       "<Figure size 640x480 with 2 Axes>"
      ]
     },
     "metadata": {},
     "output_type": "display_data"
    }
   ],
   "source": [
    "# train and test gradient boosting\n",
    "gbc = GradientBoostingClassifier().fit(smote_x, smote_y)\n",
    "gbc_pred = gbc.predict(x_test)\n",
    "Markdown(\"# Results: Gradient Boosting\")\n",
    "plotter(gbc_pred)"
   ]
  },
  {
   "cell_type": "code",
   "execution_count": null,
   "id": "ec5bd52e",
   "metadata": {},
   "outputs": [],
   "source": []
  }
 ],
 "metadata": {
  "jupytext": {
   "cell_metadata_filter": "-all",
   "main_language": "python",
   "notebook_metadata_filter": "-all"
  },
  "kernelspec": {
   "display_name": "venv",
   "language": "python",
   "name": "venv"
  },
  "language_info": {
   "codemirror_mode": {
    "name": "ipython",
    "version": 3
   },
   "file_extension": ".py",
   "mimetype": "text/x-python",
   "name": "python",
   "nbconvert_exporter": "python",
   "pygments_lexer": "ipython3",
   "version": "3.12.0"
  }
 },
 "nbformat": 4,
 "nbformat_minor": 5
}
